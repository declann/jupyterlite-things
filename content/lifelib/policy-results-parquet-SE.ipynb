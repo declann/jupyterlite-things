{
 "cells": [
  {
   "cell_type": "markdown",
   "id": "03071865",
   "metadata": {},
   "source": [
    "# Code to generate policy-results-se.parquet\n",
    "\n",
    "***Excluding NB**, due to some errors e.g. policy 581 (check interact notebook)**\n",
    "\n",
    "*with an optional visual of the generated data*"
   ]
  },
  {
   "cell_type": "code",
   "execution_count": null,
   "id": "b35013e2-c803-470f-a5c4-e78f3524382c",
   "metadata": {},
   "outputs": [],
   "source": [
    "#import piplite\n",
    "import micropip\n",
    "await micropip.install(\"openpyxl\")\n",
    "await micropip.install(\"ipywidgets\")\n",
    "await micropip.install(\"altair\")"
   ]
  },
  {
   "cell_type": "code",
   "execution_count": null,
   "id": "f70f2d3c",
   "metadata": {},
   "outputs": [],
   "source": [
    "import pandas\n",
    "from BasicTerm_SE_nomx import BasicTerm_SE"
   ]
  },
  {
   "cell_type": "code",
   "execution_count": null,
   "id": "f150f74e-633c-4f2b-961f-bb5ad17cf278",
   "metadata": {},
   "outputs": [],
   "source": [
    "import numpy as np"
   ]
  },
  {
   "cell_type": "markdown",
   "id": "936a3a7d-36ab-44bd-afa9-6693ff09fded",
   "metadata": {},
   "source": [
    "## filtering NB:\n",
    "\n",
    "(I should probably just use model_point_table)"
   ]
  },
  {
   "cell_type": "code",
   "execution_count": null,
   "id": "6a33296c-cb3d-4010-841c-5e81af1904d2",
   "metadata": {},
   "outputs": [],
   "source": [
    "dur0s = [(p, BasicTerm_SE.Projection[p].duration_mth(0), BasicTerm_SE.Projection[p].model_point().policy_count) for p in range(1,10000)]"
   ]
  },
  {
   "cell_type": "code",
   "execution_count": null,
   "id": "26f34558-49f5-4356-bfd5-5278dcc8a753",
   "metadata": {},
   "outputs": [],
   "source": [
    "filtered = map(lambda d: d[0], filter(lambda d: d[1]>0 and d[2]>0, dur0s))"
   ]
  },
  {
   "cell_type": "code",
   "execution_count": null,
   "id": "05902b0f",
   "metadata": {},
   "outputs": [],
   "source": [
    "policy_results = pandas.DataFrame([ ( p, BasicTerm_SE.Projection[p].duration_mth(0), BasicTerm_SE.Projection[p].age_at_entry(), BasicTerm_SE.Projection[p].sex(), BasicTerm_SE.Projection[p].policy_term(), BasicTerm_SE.Projection[p].sum_assured(), BasicTerm_SE.Projection[p].pv_net_cf(), BasicTerm_SE.Projection[p].pv_premiums(), BasicTerm_SE.Projection[p].pv_claims(),BasicTerm_SE.Projection[p].pv_commissions(),BasicTerm_SE.Projection[p].pv_expenses(),BasicTerm_SE.Projection[p].model_point().policy_count) for p in filtered ], columns=['p','duration_mth','age_at_entry','sex','policy_term','sum_assured','pv_net_cf', 'pv_premiums', 'pv_claims', 'pv_commissions', 'pv_expenses', 'policy_count'])"
   ]
  },
  {
   "cell_type": "code",
   "execution_count": null,
   "id": "43302dc9",
   "metadata": {},
   "outputs": [],
   "source": [
    "policy_results"
   ]
  },
  {
   "cell_type": "markdown",
   "id": "ccf2b7cc",
   "metadata": {},
   "source": [
    "# Write to a Parquet file:"
   ]
  },
  {
   "cell_type": "code",
   "execution_count": null,
   "id": "25ab88d3",
   "metadata": {},
   "outputs": [],
   "source": [
    "policy_results.to_parquet('policy-results-SE-noNB.parquet')"
   ]
  },
  {
   "cell_type": "markdown",
   "id": "47f70bd3",
   "metadata": {},
   "source": [
    "# Optional Visual:"
   ]
  },
  {
   "cell_type": "code",
   "execution_count": null,
   "id": "b8a1f43e",
   "metadata": {},
   "outputs": [],
   "source": [
    "import altair as alt\n",
    "\n",
    "alt.data_transformers.disable_max_rows()\n",
    "\n",
    "alt.Chart(policy_results).properties(width=480, height=200, title='BasicTerm_SE Profitability by Policy').mark_point().encode(\n",
    "            x='sum_assured:Q',\n",
    "            y='pv_net_cf:Q',\n",
    "            #color='age_at_entry:Q',\n",
    "            #color=alt.Color('age_at_entry:Q').scale(scheme='spectral'),\n",
    "            color=alt.Color('duration_mth:Q').scale(scheme='spectral', reverse=False),\n",
    "            shape='sex:N',\n",
    "            row='policy_term:N',\n",
    "            order='p'\n",
    "          )"
   ]
  }
 ],
 "metadata": {
  "kernelspec": {
   "display_name": "Python 3 (ipykernel)",
   "language": "python",
   "name": "python3"
  },
  "language_info": {
   "codemirror_mode": {
    "name": "ipython",
    "version": 3
   },
   "file_extension": ".py",
   "mimetype": "text/x-python",
   "name": "python",
   "nbconvert_exporter": "python",
   "pygments_lexer": "ipython3",
   "version": "3.10.12"
  }
 },
 "nbformat": 4,
 "nbformat_minor": 5
}
