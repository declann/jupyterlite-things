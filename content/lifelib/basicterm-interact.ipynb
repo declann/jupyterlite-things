{
  "cells": [
    {
      "cell_type": "markdown",
      "id": "ff7e60e0",
      "metadata": {},
      "source": [
        "## lifelib interactions\n",
        "\n",
        "Some interactions with the [lifelib BasicTerm_S](https://lifelib.io/libraries/basiclife/BasicTerm_S.html) actuarial cashflow model.\n",
        "\n",
        "***Run cells in sequence (see Play button) to show interactions***"
      ]
    },
    {
      "cell_type": "code",
      "execution_count": 9,
      "id": "b35013e2-c803-470f-a5c4-e78f3524382c",
      "metadata": {
        "trusted": true
      },
      "outputs": [
        {
          "name": "stdout",
          "output_type": "stream",
          "text": [
            "Defaulting to user installation because normal site-packages is not writeable\n",
            "Requirement already satisfied: pandas in /home/declan/.local/lib/python3.10/site-packages (1.5.3)\n",
            "Requirement already satisfied: python-dateutil>=2.8.1 in /home/declan/.local/lib/python3.10/site-packages (from pandas) (2.8.2)\n",
            "Requirement already satisfied: pytz>=2020.1 in /usr/lib/python3/dist-packages (from pandas) (2022.1)\n",
            "Requirement already satisfied: numpy>=1.21.0 in /home/declan/.local/lib/python3.10/site-packages (from pandas) (1.24.3)\n",
            "Requirement already satisfied: six>=1.5 in /usr/lib/python3/dist-packages (from python-dateutil>=2.8.1->pandas) (1.16.0)\n",
            "Note: you may need to restart the kernel to use updated packages.\n",
            "Defaulting to user installation because normal site-packages is not writeable\n",
            "Requirement already satisfied: openpyxl in /home/declan/.local/lib/python3.10/site-packages (3.1.2)\n",
            "Requirement already satisfied: et-xmlfile in /home/declan/.local/lib/python3.10/site-packages (from openpyxl) (1.1.0)\n",
            "Note: you may need to restart the kernel to use updated packages.\n",
            "Defaulting to user installation because normal site-packages is not writeable\n",
            "Requirement already satisfied: ipywidgets in /home/declan/.local/lib/python3.10/site-packages (8.1.2)\n",
            "Requirement already satisfied: widgetsnbextension~=4.0.10 in /home/declan/.local/lib/python3.10/site-packages (from ipywidgets) (4.0.10)\n",
            "Requirement already satisfied: traitlets>=4.3.1 in /home/declan/.local/lib/python3.10/site-packages (from ipywidgets) (5.9.0)\n",
            "Requirement already satisfied: ipython>=6.1.0 in /home/declan/.local/lib/python3.10/site-packages (from ipywidgets) (8.13.2)\n",
            "Requirement already satisfied: jupyterlab-widgets~=3.0.10 in /home/declan/.local/lib/python3.10/site-packages (from ipywidgets) (3.0.10)\n",
            "Requirement already satisfied: comm>=0.1.3 in /home/declan/.local/lib/python3.10/site-packages (from ipywidgets) (0.1.3)\n",
            "Requirement already satisfied: backcall in /home/declan/.local/lib/python3.10/site-packages (from ipython>=6.1.0->ipywidgets) (0.2.0)\n",
            "Requirement already satisfied: pexpect>4.3 in /usr/lib/python3/dist-packages (from ipython>=6.1.0->ipywidgets) (4.8.0)\n",
            "Requirement already satisfied: prompt-toolkit!=3.0.37,<3.1.0,>=3.0.30 in /home/declan/.local/lib/python3.10/site-packages (from ipython>=6.1.0->ipywidgets) (3.0.38)\n",
            "Requirement already satisfied: pickleshare in /home/declan/.local/lib/python3.10/site-packages (from ipython>=6.1.0->ipywidgets) (0.7.5)\n",
            "Requirement already satisfied: jedi>=0.16 in /home/declan/.local/lib/python3.10/site-packages (from ipython>=6.1.0->ipywidgets) (0.18.2)\n",
            "Requirement already satisfied: stack-data in /home/declan/.local/lib/python3.10/site-packages (from ipython>=6.1.0->ipywidgets) (0.6.2)\n",
            "Requirement already satisfied: decorator in /home/declan/.local/lib/python3.10/site-packages (from ipython>=6.1.0->ipywidgets) (5.1.1)\n",
            "Requirement already satisfied: matplotlib-inline in /home/declan/.local/lib/python3.10/site-packages (from ipython>=6.1.0->ipywidgets) (0.1.6)\n",
            "Requirement already satisfied: pygments>=2.4.0 in /home/declan/.local/lib/python3.10/site-packages (from ipython>=6.1.0->ipywidgets) (2.15.1)\n",
            "Requirement already satisfied: parso<0.9.0,>=0.8.0 in /home/declan/.local/lib/python3.10/site-packages (from jedi>=0.16->ipython>=6.1.0->ipywidgets) (0.8.3)\n",
            "Requirement already satisfied: wcwidth in /home/declan/.local/lib/python3.10/site-packages (from prompt-toolkit!=3.0.37,<3.1.0,>=3.0.30->ipython>=6.1.0->ipywidgets) (0.2.6)\n",
            "Requirement already satisfied: asttokens>=2.1.0 in /home/declan/.local/lib/python3.10/site-packages (from stack-data->ipython>=6.1.0->ipywidgets) (2.2.1)\n",
            "Requirement already satisfied: pure-eval in /home/declan/.local/lib/python3.10/site-packages (from stack-data->ipython>=6.1.0->ipywidgets) (0.2.2)\n",
            "Requirement already satisfied: executing>=1.2.0 in /home/declan/.local/lib/python3.10/site-packages (from stack-data->ipython>=6.1.0->ipywidgets) (1.2.0)\n",
            "Requirement already satisfied: six in /usr/lib/python3/dist-packages (from asttokens>=2.1.0->stack-data->ipython>=6.1.0->ipywidgets) (1.16.0)\n",
            "Note: you may need to restart the kernel to use updated packages.\n",
            "Defaulting to user installation because normal site-packages is not writeable\n",
            "Requirement already satisfied: altair in /home/declan/.local/lib/python3.10/site-packages (5.0.1)\n",
            "Requirement already satisfied: pandas>=0.18 in /home/declan/.local/lib/python3.10/site-packages (from altair) (1.5.3)\n",
            "Requirement already satisfied: jinja2 in /home/declan/.local/lib/python3.10/site-packages (from altair) (3.1.2)\n",
            "Requirement already satisfied: numpy in /home/declan/.local/lib/python3.10/site-packages (from altair) (1.24.3)\n",
            "Requirement already satisfied: jsonschema>=3.0 in /home/declan/.local/lib/python3.10/site-packages (from altair) (4.21.1)\n",
            "Requirement already satisfied: typing-extensions>=4.0.1 in /home/declan/.local/lib/python3.10/site-packages (from altair) (4.6.3)\n",
            "Requirement already satisfied: toolz in /home/declan/.local/lib/python3.10/site-packages (from altair) (0.12.0)\n",
            "Requirement already satisfied: referencing>=0.28.4 in /home/declan/.local/lib/python3.10/site-packages (from jsonschema>=3.0->altair) (0.34.0)\n",
            "Requirement already satisfied: attrs>=22.2.0 in /home/declan/.local/lib/python3.10/site-packages (from jsonschema>=3.0->altair) (23.1.0)\n",
            "Requirement already satisfied: rpds-py>=0.7.1 in /home/declan/.local/lib/python3.10/site-packages (from jsonschema>=3.0->altair) (0.18.0)\n",
            "Requirement already satisfied: jsonschema-specifications>=2023.03.6 in /home/declan/.local/lib/python3.10/site-packages (from jsonschema>=3.0->altair) (2023.12.1)\n",
            "Requirement already satisfied: python-dateutil>=2.8.1 in /home/declan/.local/lib/python3.10/site-packages (from pandas>=0.18->altair) (2.8.2)\n",
            "Requirement already satisfied: pytz>=2020.1 in /usr/lib/python3/dist-packages (from pandas>=0.18->altair) (2022.1)\n",
            "Requirement already satisfied: MarkupSafe>=2.0 in /usr/lib/python3/dist-packages (from jinja2->altair) (2.0.1)\n",
            "Requirement already satisfied: six>=1.5 in /usr/lib/python3/dist-packages (from python-dateutil>=2.8.1->pandas>=0.18->altair) (1.16.0)\n",
            "Note: you may need to restart the kernel to use updated packages.\n"
          ]
        }
      ],
      "source": [
        "%pip install pandas\n",
        "%pip install openpyxl"
      ]
    },
    {
      "cell_type": "code",
      "execution_count": 1,
      "id": "1e4c9498",
      "metadata": {},
      "outputs": [
        {
          "name": "stdout",
          "output_type": "stream",
          "text": [
            "Defaulting to user installation because normal site-packages is not writeable\n",
            "Requirement already satisfied: ipywidgets in /home/declan/.local/lib/python3.10/site-packages (8.1.2)\n",
            "Requirement already satisfied: ipython>=6.1.0 in /home/declan/.local/lib/python3.10/site-packages (from ipywidgets) (8.13.2)\n",
            "Requirement already satisfied: widgetsnbextension~=4.0.10 in /home/declan/.local/lib/python3.10/site-packages (from ipywidgets) (4.0.10)\n",
            "Requirement already satisfied: jupyterlab-widgets~=3.0.10 in /home/declan/.local/lib/python3.10/site-packages (from ipywidgets) (3.0.10)\n",
            "Requirement already satisfied: comm>=0.1.3 in /home/declan/.local/lib/python3.10/site-packages (from ipywidgets) (0.1.3)\n",
            "Requirement already satisfied: traitlets>=4.3.1 in /home/declan/.local/lib/python3.10/site-packages (from ipywidgets) (5.9.0)\n",
            "Requirement already satisfied: pickleshare in /home/declan/.local/lib/python3.10/site-packages (from ipython>=6.1.0->ipywidgets) (0.7.5)\n",
            "Requirement already satisfied: pygments>=2.4.0 in /home/declan/.local/lib/python3.10/site-packages (from ipython>=6.1.0->ipywidgets) (2.15.1)\n",
            "Requirement already satisfied: matplotlib-inline in /home/declan/.local/lib/python3.10/site-packages (from ipython>=6.1.0->ipywidgets) (0.1.6)\n",
            "Requirement already satisfied: prompt-toolkit!=3.0.37,<3.1.0,>=3.0.30 in /home/declan/.local/lib/python3.10/site-packages (from ipython>=6.1.0->ipywidgets) (3.0.38)\n",
            "Requirement already satisfied: jedi>=0.16 in /home/declan/.local/lib/python3.10/site-packages (from ipython>=6.1.0->ipywidgets) (0.18.2)\n",
            "Requirement already satisfied: backcall in /home/declan/.local/lib/python3.10/site-packages (from ipython>=6.1.0->ipywidgets) (0.2.0)\n",
            "Requirement already satisfied: stack-data in /home/declan/.local/lib/python3.10/site-packages (from ipython>=6.1.0->ipywidgets) (0.6.2)\n",
            "Requirement already satisfied: pexpect>4.3 in /usr/lib/python3/dist-packages (from ipython>=6.1.0->ipywidgets) (4.8.0)\n",
            "Requirement already satisfied: decorator in /home/declan/.local/lib/python3.10/site-packages (from ipython>=6.1.0->ipywidgets) (5.1.1)\n",
            "Requirement already satisfied: parso<0.9.0,>=0.8.0 in /home/declan/.local/lib/python3.10/site-packages (from jedi>=0.16->ipython>=6.1.0->ipywidgets) (0.8.3)\n",
            "Requirement already satisfied: wcwidth in /home/declan/.local/lib/python3.10/site-packages (from prompt-toolkit!=3.0.37,<3.1.0,>=3.0.30->ipython>=6.1.0->ipywidgets) (0.2.6)\n",
            "Requirement already satisfied: asttokens>=2.1.0 in /home/declan/.local/lib/python3.10/site-packages (from stack-data->ipython>=6.1.0->ipywidgets) (2.2.1)\n",
            "Requirement already satisfied: executing>=1.2.0 in /home/declan/.local/lib/python3.10/site-packages (from stack-data->ipython>=6.1.0->ipywidgets) (1.2.0)\n",
            "Requirement already satisfied: pure-eval in /home/declan/.local/lib/python3.10/site-packages (from stack-data->ipython>=6.1.0->ipywidgets) (0.2.2)\n",
            "Requirement already satisfied: six in /usr/lib/python3/dist-packages (from asttokens>=2.1.0->stack-data->ipython>=6.1.0->ipywidgets) (1.16.0)\n",
            "Note: you may need to restart the kernel to use updated packages.\n",
            "Defaulting to user installation because normal site-packages is not writeable\n",
            "Requirement already satisfied: altair in /home/declan/.local/lib/python3.10/site-packages (5.0.1)\n",
            "Requirement already satisfied: numpy in /home/declan/.local/lib/python3.10/site-packages (from altair) (1.24.3)\n",
            "Requirement already satisfied: jsonschema>=3.0 in /home/declan/.local/lib/python3.10/site-packages (from altair) (4.21.1)\n",
            "Requirement already satisfied: jinja2 in /home/declan/.local/lib/python3.10/site-packages (from altair) (3.1.2)\n",
            "Requirement already satisfied: typing-extensions>=4.0.1 in /home/declan/.local/lib/python3.10/site-packages (from altair) (4.6.3)\n",
            "Requirement already satisfied: pandas>=0.18 in /home/declan/.local/lib/python3.10/site-packages (from altair) (1.5.3)\n",
            "Requirement already satisfied: toolz in /home/declan/.local/lib/python3.10/site-packages (from altair) (0.12.0)\n",
            "Requirement already satisfied: rpds-py>=0.7.1 in /home/declan/.local/lib/python3.10/site-packages (from jsonschema>=3.0->altair) (0.18.0)\n",
            "Requirement already satisfied: referencing>=0.28.4 in /home/declan/.local/lib/python3.10/site-packages (from jsonschema>=3.0->altair) (0.34.0)\n",
            "Requirement already satisfied: attrs>=22.2.0 in /home/declan/.local/lib/python3.10/site-packages (from jsonschema>=3.0->altair) (23.1.0)\n",
            "Requirement already satisfied: jsonschema-specifications>=2023.03.6 in /home/declan/.local/lib/python3.10/site-packages (from jsonschema>=3.0->altair) (2023.12.1)\n",
            "Requirement already satisfied: python-dateutil>=2.8.1 in /home/declan/.local/lib/python3.10/site-packages (from pandas>=0.18->altair) (2.8.2)\n",
            "Requirement already satisfied: pytz>=2020.1 in /usr/lib/python3/dist-packages (from pandas>=0.18->altair) (2022.1)\n",
            "Requirement already satisfied: MarkupSafe>=2.0 in /usr/lib/python3/dist-packages (from jinja2->altair) (2.0.1)\n",
            "Requirement already satisfied: six>=1.5 in /usr/lib/python3/dist-packages (from python-dateutil>=2.8.1->pandas>=0.18->altair) (1.16.0)\n",
            "Note: you may need to restart the kernel to use updated packages.\n"
          ]
        }
      ],
      "source": [
        "%pip install ipywidgets\n",
        "%pip install altair"
      ]
    },
    {
      "cell_type": "code",
      "execution_count": 11,
      "id": "f70f2d3c",
      "metadata": {
        "trusted": true
      },
      "outputs": [],
      "source": [
        "from BasicTerm_S_nomx import BasicTerm_S"
      ]
    },
    {
      "cell_type": "code",
      "execution_count": 12,
      "id": "30dd2f28-a99e-4a04-a6c5-64c6614407a5",
      "metadata": {
        "trusted": true
      },
      "outputs": [],
      "source": [
        "from ipywidgets import interact"
      ]
    },
    {
      "cell_type": "markdown",
      "id": "44eb70ff-337a-44d1-9d1c-2d7b699fffc0",
      "metadata": {},
      "source": [
        "## cashflow interaction (visual)"
      ]
    },
    {
      "cell_type": "code",
      "execution_count": 13,
      "id": "f150f74e-633c-4f2b-961f-bb5ad17cf278",
      "metadata": {
        "jupyter": {
          "source_hidden": true
        },
        "trusted": true
      },
      "outputs": [],
      "source": [
        "import altair as alt\n",
        "import pandas as pd\n",
        "import numpy as np"
      ]
    },
    {
      "cell_type": "code",
      "execution_count": 14,
      "id": "f82bc895-9829-4400-a244-c8561339124e",
      "metadata": {
        "jupyter": {
          "source_hidden": true
        },
        "trusted": true
      },
      "outputs": [],
      "source": [
        "def interactive_cashflows(p=1):\n",
        "    df = BasicTerm_S.Projection[p].result_cf().reset_index().melt(id_vars=['index'], var_name='cashflow')\n",
        "    df['value'] = np.where(df['cashflow'] != 'Premiums', df['value']*-1,df['value'])\n",
        "    df['value'] = np.where(df['cashflow'] == 'Net Cashflow', df['value']*-1,df['value'])\n",
        "    #df = df[df['cashflow'] != 'Net Cashflow']\n",
        "\n",
        "    # Vega-Altair layered chart\n",
        "    \n",
        "    base = alt.Chart(df).properties(width=580, height=400)\n",
        "\n",
        "    bars = base.mark_bar().transform_filter(filter=\"datum.cashflow != 'Net Cashflow'\").encode(\n",
        "            tooltip=['cashflow:N','value:Q','index:N'],\n",
        "            x=alt.X('index:Q', scale=alt.Scale(domain=[0,200]), title=\"time\"),\n",
        "            y=alt.Y('value:Q', scale=alt.Scale(domain=[-500,300])),\n",
        "            color='cashflow:N'\n",
        "          )\n",
        "\n",
        "    lines = base.mark_line().transform_filter(filter=\"datum.cashflow == 'Net Cashflow'\").encode(\n",
        "            tooltip=['key:N','value:Q','index:N'],\n",
        "            x=alt.X('index:Q', scale=alt.Scale(domain=[0,200]), title=\"time\"),\n",
        "            y=alt.Y('value:Q', scale=alt.Scale(domain=[-500,300])),\n",
        "            color=alt.value('black')\n",
        "          )\n",
        "\n",
        "    return bars+lines"
      ]
    },
    {
      "cell_type": "code",
      "execution_count": 15,
      "id": "f443cd7d-c28b-429b-bf35-1e770fc8e506",
      "metadata": {
        "trusted": true
      },
      "outputs": [
        {
          "data": {
            "application/vnd.jupyter.widget-view+json": {
              "model_id": "04909cd05c9e443a8d60976dce84dc6c",
              "version_major": 2,
              "version_minor": 0
            },
            "text/plain": [
              "interactive(children=(IntSlider(value=1, description='p', max=10000, min=1), Output()), _dom_classes=('widget-…"
            ]
          },
          "metadata": {},
          "output_type": "display_data"
        },
        {
          "data": {
            "text/plain": [
              "<function __main__.interactive_cashflows(p=1)>"
            ]
          },
          "execution_count": 15,
          "metadata": {},
          "output_type": "execute_result"
        }
      ],
      "source": [
        "interact(interactive_cashflows, p=(1,10000))"
      ]
    },
    {
      "cell_type": "markdown",
      "id": "de5703e3-dcca-4927-bcf4-10fa3ec4fc0a",
      "metadata": {},
      "source": [
        "## summary interaction"
      ]
    },
    {
      "cell_type": "code",
      "execution_count": 7,
      "id": "9f806375-2563-43d9-889c-edee2fcf63ec",
      "metadata": {
        "trusted": true
      },
      "outputs": [
        {
          "data": {
            "application/vnd.jupyter.widget-view+json": {
              "model_id": "d68ac5967b774de697c998475c56424b",
              "version_major": 2,
              "version_minor": 0
            },
            "text/plain": [
              "interactive(children=(IntSlider(value=5000, description='p', max=10000, min=1), Output()), _dom_classes=('widg…"
            ]
          },
          "metadata": {},
          "output_type": "display_data"
        },
        {
          "data": {
            "text/plain": [
              "<function __main__.<lambda>(p)>"
            ]
          },
          "execution_count": 7,
          "metadata": {},
          "output_type": "execute_result"
        }
      ],
      "source": [
        "interact(lambda p: BasicTerm_S.Projection[p].result_pv(), p=(1,10000))"
      ]
    },
    {
      "cell_type": "markdown",
      "id": "9be9e9ee-772b-44a6-835e-b8aeab0e14a8",
      "metadata": {},
      "source": [
        "## cashflow interaction"
      ]
    },
    {
      "cell_type": "code",
      "execution_count": 8,
      "id": "7601578f-3a8b-4a1a-9f72-a2fd9925148e",
      "metadata": {
        "trusted": true
      },
      "outputs": [
        {
          "data": {
            "application/vnd.jupyter.widget-view+json": {
              "model_id": "ffd1c685df114c72843b5728614edf46",
              "version_major": 2,
              "version_minor": 0
            },
            "text/plain": [
              "interactive(children=(IntSlider(value=5000, description='p', max=10000, min=1), Output()), _dom_classes=('widg…"
            ]
          },
          "metadata": {},
          "output_type": "display_data"
        },
        {
          "data": {
            "text/plain": [
              "<function __main__.<lambda>(p)>"
            ]
          },
          "execution_count": 8,
          "metadata": {},
          "output_type": "execute_result"
        }
      ],
      "source": [
        "interact(lambda p: BasicTerm_S.Projection[p].result_cf(), p=(1,10000))"
      ]
    }
  ],
  "metadata": {
    "kernelspec": {
      "display_name": "Python 3",
      "language": "python",
      "name": "python3"
    },
    "language_info": {
      "codemirror_mode": {
        "name": "ipython",
        "version": 3
      },
      "file_extension": ".py",
      "mimetype": "text/x-python",
      "name": "python",
      "nbconvert_exporter": "python",
      "pygments_lexer": "ipython3",
      "version": "3.10.12"
    }
  },
  "nbformat": 4,
  "nbformat_minor": 5
}
