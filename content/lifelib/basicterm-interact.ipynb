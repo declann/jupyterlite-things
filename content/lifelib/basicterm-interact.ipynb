{
  "cells": [
    {
      "cell_type": "markdown",
      "id": "ff7e60e0",
      "metadata": {},
      "source": [
        "## lifelib interactions\n",
        "\n",
        "Some interactions with the [lifelib BasicTerm_S](https://lifelib.io/libraries/basiclife/BasicTerm_S.html) actuarial cashflow model.\n",
        "\n",
        "***Run cells in sequence (see Play button), and use sliders to interact***"
      ]
    },
    {
      "cell_type": "code",
      "execution_count": null,
      "id": "b35013e2-c803-470f-a5c4-e78f3524382c",
      "metadata": {
        "trusted": true
      },
      "outputs": [],
      "source": [
        "%pip install openpyxl"
      ]
    },
    {
      "cell_type": "code",
      "execution_count": null,
      "id": "f70f2d3c",
      "metadata": {
        "trusted": true
      },
      "outputs": [],
      "source": [
        "import pandas\n",
        "from BasicTerm_S_nomx import BasicTerm_S"
      ]
    },
    {
      "cell_type": "code",
      "execution_count": null,
      "id": "6dc96ba5",
      "metadata": {},
      "outputs": [],
      "source": [
        "%pip install ipywidgets"
      ]
    },
    {
      "cell_type": "code",
      "execution_count": null,
      "id": "30dd2f28-a99e-4a04-a6c5-64c6614407a5",
      "metadata": {
        "trusted": true
      },
      "outputs": [],
      "source": [
        "from ipywidgets import interact"
      ]
    },
    {
      "cell_type": "markdown",
      "id": "44eb70ff-337a-44d1-9d1c-2d7b699fffc0",
      "metadata": {},
      "source": [
        "## cashflow interaction (visual)"
      ]
    },
    {
      "cell_type": "code",
      "execution_count": null,
      "id": "621035f5",
      "metadata": {},
      "outputs": [],
      "source": [
        "%pip install altair"
      ]
    },
    {
      "cell_type": "code",
      "execution_count": null,
      "id": "f150f74e-633c-4f2b-961f-bb5ad17cf278",
      "metadata": {
        "jupyter": {
          "source_hidden": true
        },
        "trusted": true
      },
      "outputs": [],
      "source": [
        "import altair as alt\n",
        "import numpy as np"
      ]
    },
    {
      "cell_type": "code",
      "execution_count": null,
      "id": "f82bc895-9829-4400-a244-c8561339124e",
      "metadata": {
        "jupyter": {
          "source_hidden": true
        },
        "trusted": true
      },
      "outputs": [],
      "source": [
        "def interactive_cashflows(p=1):\n",
        "    df = BasicTerm_S.Projection[p].result_cf().reset_index().melt(id_vars=['index'], var_name='cashflow')\n",
        "    df['value'] = np.where(df['cashflow'] != 'Premiums', df['value']*-1,df['value'])\n",
        "    df['value'] = np.where(df['cashflow'] == 'Net Cashflow', df['value']*-1,df['value'])\n",
        "    #df = df[df['cashflow'] != 'Net Cashflow']\n",
        "\n",
        "    # Vega-Altair layered chart\n",
        "    \n",
        "    base = alt.Chart(df).properties(width=580, height=400)\n",
        "\n",
        "    bars = base.mark_bar().transform_filter(filter=\"datum.cashflow != 'Net Cashflow'\").encode(\n",
        "            tooltip=['cashflow:N','value:Q','index:N'],\n",
        "            x=alt.X('index:Q', scale=alt.Scale(domain=[0,200]), title=\"time\"),\n",
        "            y=alt.Y('value:Q', scale=alt.Scale(domain=[-500,300])),\n",
        "            color='cashflow:N'\n",
        "          )\n",
        "\n",
        "    lines = base.mark_line(interpolate='step-after').transform_filter(filter=\"datum.cashflow == 'Net Cashflow'\").encode(\n",
        "            tooltip=['key:N','value:Q','index:N'],\n",
        "            x=alt.X('index:Q', scale=alt.Scale(domain=[0,200]), title=\"time\"),\n",
        "            y=alt.Y('value:Q', scale=alt.Scale(domain=[-500,300])),\n",
        "            color=alt.value('black')\n",
        "          )\n",
        "\n",
        "    return bars+lines"
      ]
    },
    {
      "cell_type": "code",
      "execution_count": null,
      "id": "f443cd7d-c28b-429b-bf35-1e770fc8e506",
      "metadata": {
        "trusted": true
      },
      "outputs": [],
      "source": [
        "interact(interactive_cashflows, p=(1,10000))"
      ]
    },
    {
      "cell_type": "markdown",
      "id": "de5703e3-dcca-4927-bcf4-10fa3ec4fc0a",
      "metadata": {},
      "source": [
        "## summary interaction"
      ]
    },
    {
      "cell_type": "code",
      "execution_count": null,
      "id": "9f806375-2563-43d9-889c-edee2fcf63ec",
      "metadata": {
        "trusted": true
      },
      "outputs": [],
      "source": [
        "interact(lambda p: BasicTerm_S.Projection[p].result_pv(), p=(1,10000))"
      ]
    },
    {
      "cell_type": "markdown",
      "id": "9be9e9ee-772b-44a6-835e-b8aeab0e14a8",
      "metadata": {},
      "source": [
        "## cashflow interaction"
      ]
    },
    {
      "cell_type": "code",
      "execution_count": null,
      "id": "7601578f-3a8b-4a1a-9f72-a2fd9925148e",
      "metadata": {
        "trusted": true
      },
      "outputs": [],
      "source": [
        "interact(lambda p: BasicTerm_S.Projection[p].result_cf(), p=(1,10000))"
      ]
    },
    {
      "cell_type": "markdown",
      "id": "aa1720c0",
      "metadata": {},
      "source": [
        ".\n",
        "\n",
        ".\n",
        "\n",
        ".\n",
        "\n",
        ".\n",
        "\n",
        ".\n",
        "\n",
        ".\n",
        "\n",
        ".\n",
        "\n",
        ".\n",
        "\n",
        ".\n",
        "\n",
        "## all-policies 🚧 WIP"
      ]
    },
    {
      "cell_type": "code",
      "execution_count": null,
      "id": "927c671e",
      "metadata": {},
      "outputs": [],
      "source": [
        "[BasicTerm_S.Projection[p].result_pv().assign(p=p) for p in [1,2,3]][2]"
      ]
    },
    {
      "cell_type": "code",
      "execution_count": null,
      "id": "694de03c",
      "metadata": {},
      "outputs": [],
      "source": [
        "from functools import reduce"
      ]
    },
    {
      "cell_type": "code",
      "execution_count": null,
      "id": "df3d7deb",
      "metadata": {},
      "outputs": [],
      "source": [
        "#40s runtime: pandas.concat([BasicTerm_S.Projection[p].result_pv()[:1].assign(p=p) for p in range(1,10000) ])"
      ]
    },
    {
      "cell_type": "code",
      "execution_count": null,
      "id": "05902b0f",
      "metadata": {},
      "outputs": [],
      "source": [
        "#0.1s runtime (local):\n",
        "policy_results = pandas.DataFrame([ ( p, BasicTerm_S.Projection[p].age_at_entry(), BasicTerm_S.Projection[p].sex(), BasicTerm_S.Projection[p].policy_term(), BasicTerm_S.Projection[p].sum_assured(), BasicTerm_S.Projection[p].pv_net_cf(), ) for p in range(1,10000) ], columns=['p','age_at_entry','sex','policy_term','sum_assured','pv_net_cf'])"
      ]
    },
    {
      "cell_type": "code",
      "execution_count": null,
      "id": "43302dc9",
      "metadata": {},
      "outputs": [],
      "source": [
        "policy_results"
      ]
    },
    {
      "cell_type": "code",
      "execution_count": null,
      "id": "9063c830",
      "metadata": {},
      "outputs": [],
      "source": [
        "alt.data_transformers.disable_max_rows()\n",
        "\n",
        "alt.Chart(policy_results).properties(width=480, height=200, title='BasicTerm Profitability by Policy (@ outset; 10k points)').mark_point().encode(\n",
        "            x='sum_assured:Q',\n",
        "            y='pv_net_cf:Q',\n",
        "            #color='age_at_entry:Q',\n",
        "            color=alt.Color('age_at_entry:Q').scale(scheme='spectral'),\n",
        "            shape='sex:N',\n",
        "            row='policy_term:N',\n",
        "            order='p'\n",
        "          )"
      ]
    }
  ],
  "metadata": {
    "kernelspec": {
      "display_name": "Python 3",
      "language": "python",
      "name": "python3"
    },
    "language_info": {
      "codemirror_mode": {
        "name": "ipython",
        "version": 3
      },
      "file_extension": ".py",
      "mimetype": "text/x-python",
      "name": "python",
      "nbconvert_exporter": "python",
      "pygments_lexer": "ipython3",
      "version": "3.10.12"
    }
  },
  "nbformat": 4,
  "nbformat_minor": 5
}
