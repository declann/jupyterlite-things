{
  "cells": [
    {
      "cell_type": "markdown",
      "id": "ff7e60e0",
      "metadata": {},
      "source": [
        "## lifelib interactions\n",
        "\n",
        "Some interactions with the [lifelib BasicTerm_S](https://lifelib.io/libraries/basiclife/BasicTerm_S.html) actuarial cashflow model."
      ]
    },
    {
      "cell_type": "markdown",
      "id": "271e071c",
      "metadata": {},
      "source": [
        "***Press Run > Run All Cells in the toolbar at the top to show interactions***"
      ]
    },
    {
      "cell_type": "code",
      "execution_count": 1,
      "id": "b35013e2-c803-470f-a5c4-e78f3524382c",
      "metadata": {
        "trusted": true
      },
      "outputs": [
        {
          "name": "stdout",
          "output_type": "stream",
          "text": [
            "Note: you may need to restart the kernel to use updated packages.\n",
            "Note: you may need to restart the kernel to use updated packages.\n",
            "Note: you may need to restart the kernel to use updated packages.\n",
            "Note: you may need to restart the kernel to use updated packages.\n"
          ]
        }
      ],
      "source": [
        "%pip install -q pandas\n",
        "%pip install -q openpyxl\n",
        "%pip install -q ipywidgets\n",
        "%pip install -q altair"
      ]
    },
    {
      "cell_type": "code",
      "execution_count": 2,
      "id": "f70f2d3c",
      "metadata": {
        "trusted": true
      },
      "outputs": [],
      "source": [
        "from BasicTerm_S_nomx import BasicTerm_S"
      ]
    },
    {
      "cell_type": "code",
      "execution_count": 3,
      "id": "30dd2f28-a99e-4a04-a6c5-64c6614407a5",
      "metadata": {
        "trusted": true
      },
      "outputs": [],
      "source": [
        "from ipywidgets import interact, interactive, fixed, interact_manual\n",
        "import ipywidgets as widgets"
      ]
    },
    {
      "cell_type": "markdown",
      "id": "44eb70ff-337a-44d1-9d1c-2d7b699fffc0",
      "metadata": {},
      "source": [
        "## cashflow interaction (visual)"
      ]
    },
    {
      "cell_type": "code",
      "execution_count": 4,
      "id": "f150f74e-633c-4f2b-961f-bb5ad17cf278",
      "metadata": {
        "jupyter": {
          "source_hidden": true
        },
        "trusted": true
      },
      "outputs": [],
      "source": [
        "import altair as alt\n",
        "import pandas as pd\n",
        "import numpy as np"
      ]
    },
    {
      "cell_type": "code",
      "execution_count": 9,
      "id": "f82bc895-9829-4400-a244-c8561339124e",
      "metadata": {
        "jupyter": {
          "source_hidden": true
        },
        "trusted": true
      },
      "outputs": [],
      "source": [
        "def interactive_cashflows(p=1):\n",
        "    df = BasicTerm_S.Projection[p].result_cf().reset_index().melt(id_vars=['index'], var_name='cashflow')\n",
        "    df['value'] = np.where(df['cashflow'] != 'Premiums', df['value']*-1,df['value'])\n",
        "    df['value'] = np.where(df['cashflow'] == 'Net Cashflow', df['value']*-1,df['value'])\n",
        "    #df = df[df['cashflow'] != 'Net Cashflow']\n",
        "\n",
        "    # Vega-Altair layered chart\n",
        "    \n",
        "    base = alt.Chart(df).properties(width=580, height=400)\n",
        "\n",
        "    bars = base.mark_bar().transform_filter(filter=\"datum.cashflow != 'Net Cashflow'\").encode(\n",
        "            tooltip=['cashflow:N','value:Q','index:N'],\n",
        "            x=alt.X('index:Q', scale=alt.Scale(domain=[0,200]), title=\"time\"),\n",
        "            y=alt.Y('value:Q', scale=alt.Scale(domain=[-500,300])),\n",
        "            color='cashflow:N'\n",
        "          )\n",
        "\n",
        "    lines = base.mark_line().transform_filter(filter=\"datum.cashflow == 'Net Cashflow'\").encode(\n",
        "            tooltip=['key:N','value:Q','index:N'],\n",
        "            x=alt.X('index:Q', scale=alt.Scale(domain=[0,200]), title=\"time\"),\n",
        "            y=alt.Y('value:Q', scale=alt.Scale(domain=[-500,300])),\n",
        "            color=alt.value('black')\n",
        "          )\n",
        "\n",
        "    return bars+lines"
      ]
    },
    {
      "cell_type": "code",
      "execution_count": 10,
      "id": "f443cd7d-c28b-429b-bf35-1e770fc8e506",
      "metadata": {
        "trusted": true
      },
      "outputs": [
        {
          "data": {
            "application/vnd.jupyter.widget-view+json": {
              "model_id": "135a037a12e74ce39cb86e194752dfb9",
              "version_major": 2,
              "version_minor": 0
            },
            "text/plain": [
              "interactive(children=(IntSlider(value=1, description='p', max=10000, min=1), Output()), _dom_classes=('widget-…"
            ]
          },
          "metadata": {},
          "output_type": "display_data"
        },
        {
          "data": {
            "text/plain": [
              "<function __main__.interactive_cashflows(p=1)>"
            ]
          },
          "execution_count": 10,
          "metadata": {},
          "output_type": "execute_result"
        }
      ],
      "source": [
        "interact(interactive_cashflows, p=(1,10000))"
      ]
    },
    {
      "cell_type": "markdown",
      "id": "de5703e3-dcca-4927-bcf4-10fa3ec4fc0a",
      "metadata": {},
      "source": [
        "## summary interaction"
      ]
    },
    {
      "cell_type": "code",
      "execution_count": 7,
      "id": "9f806375-2563-43d9-889c-edee2fcf63ec",
      "metadata": {
        "trusted": true
      },
      "outputs": [
        {
          "data": {
            "application/vnd.jupyter.widget-view+json": {
              "model_id": "a7debb9376bf4c7eabda9654e5847572",
              "version_major": 2,
              "version_minor": 0
            },
            "text/plain": [
              "interactive(children=(IntSlider(value=5000, description='p', max=10000, min=1), Output()), _dom_classes=('widg…"
            ]
          },
          "metadata": {},
          "output_type": "display_data"
        },
        {
          "data": {
            "text/plain": [
              "<function __main__.<lambda>(p)>"
            ]
          },
          "execution_count": 7,
          "metadata": {},
          "output_type": "execute_result"
        }
      ],
      "source": [
        "interact(lambda p: BasicTerm_S.Projection[p].result_pv(), p=(1,10000))"
      ]
    },
    {
      "cell_type": "markdown",
      "id": "9be9e9ee-772b-44a6-835e-b8aeab0e14a8",
      "metadata": {},
      "source": [
        "## cashflow interaction"
      ]
    },
    {
      "cell_type": "code",
      "execution_count": 8,
      "id": "7601578f-3a8b-4a1a-9f72-a2fd9925148e",
      "metadata": {
        "trusted": true
      },
      "outputs": [
        {
          "data": {
            "application/vnd.jupyter.widget-view+json": {
              "model_id": "6f3ae05c3ccb414ab0da1b937d2a9d2b",
              "version_major": 2,
              "version_minor": 0
            },
            "text/plain": [
              "interactive(children=(IntSlider(value=5000, description='p', max=10000, min=1), Output()), _dom_classes=('widg…"
            ]
          },
          "metadata": {},
          "output_type": "display_data"
        },
        {
          "data": {
            "text/plain": [
              "<function __main__.<lambda>(p)>"
            ]
          },
          "execution_count": 8,
          "metadata": {},
          "output_type": "execute_result"
        }
      ],
      "source": [
        "interact(lambda p: BasicTerm_S.Projection[p].result_cf(), p=(1,10000))"
      ]
    }
  ],
  "metadata": {
    "kernelspec": {
      "display_name": "Python 3",
      "language": "python",
      "name": "python3"
    },
    "language_info": {
      "codemirror_mode": {
        "name": "ipython",
        "version": 3
      },
      "file_extension": ".py",
      "mimetype": "text/x-python",
      "name": "python",
      "nbconvert_exporter": "python",
      "pygments_lexer": "ipython3",
      "version": "3.10.12"
    }
  },
  "nbformat": 4,
  "nbformat_minor": 5
}
