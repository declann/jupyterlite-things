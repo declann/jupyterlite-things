{
  "cells": [
    {
      "cell_type": "code",
      "execution_count": 7,
      "id": "b35013e2-c803-470f-a5c4-e78f3524382c",
      "metadata": {
        "trusted": true
      },
      "outputs": [],
      "source": [
        "%pip install pandas\n",
        "%pip install openpyxl\n",
        "%pip install ipywidgets"
      ]
    },
    {
      "cell_type": "code",
      "execution_count": 1,
      "id": "f70f2d3c",
      "metadata": {
        "trusted": true
      },
      "outputs": [],
      "source": [
        "from BasicTerm_S_nomx import BasicTerm_S"
      ]
    },
    {
      "cell_type": "code",
      "execution_count": 2,
      "id": "30dd2f28-a99e-4a04-a6c5-64c6614407a5",
      "metadata": {
        "trusted": true
      },
      "outputs": [],
      "source": [
        "from ipywidgets import interact, interactive, fixed, interact_manual\n",
        "import ipywidgets as widgets"
      ]
    },
    {
      "cell_type": "code",
      "execution_count": 3,
      "id": "9f806375-2563-43d9-889c-edee2fcf63ec",
      "metadata": {
        "trusted": true
      },
      "outputs": [
        {
          "data": {
            "application/vnd.jupyter.widget-view+json": {
              "model_id": "c691c3cda4814febaf0b382c21408278",
              "version_major": 2,
              "version_minor": 0
            },
            "text/plain": [
              "interactive(children=(IntSlider(value=500, description='p', max=1000, min=1), Output()), _dom_classes=('widget…"
            ]
          },
          "metadata": {},
          "output_type": "display_data"
        },
        {
          "data": {
            "text/plain": [
              "<function __main__.<lambda>(p)>"
            ]
          },
          "execution_count": 3,
          "metadata": {},
          "output_type": "execute_result"
        }
      ],
      "source": [
        "interact(lambda p: BasicTerm_S.Projection[p].result_pv(), p=(1,1000))"
      ]
    },
    {
      "cell_type": "code",
      "execution_count": 4,
      "id": "7601578f-3a8b-4a1a-9f72-a2fd9925148e",
      "metadata": {
        "trusted": true
      },
      "outputs": [
        {
          "data": {
            "application/vnd.jupyter.widget-view+json": {
              "model_id": "d08eff639f474a5d81598adb367315e8",
              "version_major": 2,
              "version_minor": 0
            },
            "text/plain": [
              "interactive(children=(IntSlider(value=500, description='p', max=1000, min=1), Output()), _dom_classes=('widget…"
            ]
          },
          "metadata": {},
          "output_type": "display_data"
        },
        {
          "data": {
            "text/plain": [
              "<function __main__.<lambda>(p)>"
            ]
          },
          "execution_count": 4,
          "metadata": {},
          "output_type": "execute_result"
        }
      ],
      "source": [
        "interact(lambda p: BasicTerm_S.Projection[p].result_cf(), p=(1,1000))"
      ]
    },
    {
      "cell_type": "code",
      "execution_count": null,
      "id": "ab2b7eb0",
      "metadata": {},
      "outputs": [],
      "source": []
    }
  ],
  "metadata": {
    "kernelspec": {
      "display_name": "Python 3",
      "language": "python",
      "name": "python3"
    },
    "language_info": {
      "codemirror_mode": {
        "name": "ipython",
        "version": 3
      },
      "file_extension": ".py",
      "mimetype": "text/x-python",
      "name": "python",
      "nbconvert_exporter": "python",
      "pygments_lexer": "ipython3",
      "version": "3.10.12"
    }
  },
  "nbformat": 4,
  "nbformat_minor": 5
}
