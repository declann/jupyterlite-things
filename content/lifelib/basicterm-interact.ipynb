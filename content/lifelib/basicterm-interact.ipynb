{
  "metadata": {
    "kernelspec": {
      "name": "python",
      "display_name": "Python (Pyodide)",
      "language": "python"
    },
    "language_info": {
      "codemirror_mode": {
        "name": "python",
        "version": 3
      },
      "file_extension": ".py",
      "mimetype": "text/x-python",
      "name": "python",
      "nbconvert_exporter": "python",
      "pygments_lexer": "ipython3",
      "version": "3.8"
    }
  },
  "nbformat_minor": 5,
  "nbformat": 4,
  "cells": [
    {
      "id": "b35013e2-c803-470f-a5c4-e78f3524382c",
      "cell_type": "code",
      "source": "%pip install pandas\n%pip install openpyxl\n%pip install ipywidgets",
      "metadata": {
        "trusted": true
      },
      "outputs": [],
      "execution_count": 7
    },
    {
      "id": "f70f2d3c",
      "cell_type": "code",
      "source": "from BasicTerm_S_nomx import BasicTerm_S",
      "metadata": {
        "trusted": true
      },
      "outputs": [],
      "execution_count": 5
    },
    {
      "id": "30dd2f28-a99e-4a04-a6c5-64c6614407a5",
      "cell_type": "code",
      "source": "from ipywidgets import interact, interactive, fixed, interact_manual\nimport ipywidgets as widgets",
      "metadata": {
        "trusted": true
      },
      "outputs": [],
      "execution_count": 8
    },
    {
      "id": "9f806375-2563-43d9-889c-edee2fcf63ec",
      "cell_type": "code",
      "source": "interact(lambda p: BasicTerm_S.Projection[p].result_pv(), p=(1,1000))",
      "metadata": {
        "trusted": true
      },
      "outputs": [
        {
          "output_type": "display_data",
          "data": {
            "text/plain": "interactive(children=(IntSlider(value=500, description='p', max=1000, min=1), Output()), _dom_classes=('widget…",
            "application/vnd.jupyter.widget-view+json": {
              "version_major": 2,
              "version_minor": 0,
              "model_id": "8e9eba487e19491db4a18407cbc35ef0"
            }
          },
          "metadata": {}
        },
        {
          "execution_count": 9,
          "output_type": "execute_result",
          "data": {
            "text/plain": "<function __main__.<lambda>(p)>"
          },
          "metadata": {}
        }
      ],
      "execution_count": 9
    },
    {
      "id": "7601578f-3a8b-4a1a-9f72-a2fd9925148e",
      "cell_type": "code",
      "source": "interact(lambda p: BasicTerm_S.Projection[p].result_cf(), p=(1,1000))",
      "metadata": {
        "trusted": true
      },
      "outputs": [
        {
          "output_type": "display_data",
          "data": {
            "text/plain": "interactive(children=(IntSlider(value=500, description='p', max=1000, min=1), Output()), _dom_classes=('widget…",
            "application/vnd.jupyter.widget-view+json": {
              "version_major": 2,
              "version_minor": 0,
              "model_id": "1a0ad5cd299a41189a6884fb48d3c6f5"
            }
          },
          "metadata": {}
        },
        {
          "execution_count": 10,
          "output_type": "execute_result",
          "data": {
            "text/plain": "<function __main__.<lambda>(p)>"
          },
          "metadata": {}
        }
      ],
      "execution_count": 10
    },
    {
      "id": "c31f7d54",
      "cell_type": "markdown",
      "source": "# from https://modelx.io/blog/2023/08/19/enhanced-speed-for-exported-lifelib-models/",
      "metadata": {}
    },
    {
      "id": "cfe4ef9b",
      "cell_type": "code",
      "source": "",
      "metadata": {},
      "outputs": [],
      "execution_count": null
    },
    {
      "id": "f61a7e21",
      "cell_type": "code",
      "source": "",
      "metadata": {},
      "outputs": [],
      "execution_count": null
    }
  ]
}