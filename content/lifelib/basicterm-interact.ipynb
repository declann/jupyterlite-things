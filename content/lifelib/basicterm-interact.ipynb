{
  "metadata": {
    "kernelspec": {
      "name": "python",
      "display_name": "Python (Pyodide)",
      "language": "python"
    },
    "language_info": {
      "codemirror_mode": {
        "name": "python",
        "version": 3
      },
      "file_extension": ".py",
      "mimetype": "text/x-python",
      "name": "python",
      "nbconvert_exporter": "python",
      "pygments_lexer": "ipython3",
      "version": "3.8"
    }
  },
  "nbformat_minor": 5,
  "nbformat": 4,
  "cells": [
    {
      "id": "b35013e2-c803-470f-a5c4-e78f3524382c",
      "cell_type": "code",
      "source": "%pip install pandas\n%pip install openpyxl\n%pip install ipywidgets\n%pip install altair",
      "metadata": {
        "trusted": true
      },
      "outputs": [],
      "execution_count": 1
    },
    {
      "id": "f70f2d3c",
      "cell_type": "code",
      "source": "from BasicTerm_S_nomx import BasicTerm_S",
      "metadata": {
        "trusted": true
      },
      "outputs": [],
      "execution_count": 2
    },
    {
      "id": "30dd2f28-a99e-4a04-a6c5-64c6614407a5",
      "cell_type": "code",
      "source": "from ipywidgets import interact, interactive, fixed, interact_manual\nimport ipywidgets as widgets",
      "metadata": {
        "trusted": true
      },
      "outputs": [],
      "execution_count": 3
    },
    {
      "id": "44eb70ff-337a-44d1-9d1c-2d7b699fffc0",
      "cell_type": "markdown",
      "source": "## cashflow interaction (visual)",
      "metadata": {}
    },
    {
      "id": "f150f74e-633c-4f2b-961f-bb5ad17cf278",
      "cell_type": "code",
      "source": "import altair as alt\nimport pandas as pd\nimport numpy as np",
      "metadata": {
        "trusted": true,
        "jupyter": {
          "source_hidden": true
        }
      },
      "outputs": [],
      "execution_count": 6
    },
    {
      "id": "f82bc895-9829-4400-a244-c8561339124e",
      "cell_type": "code",
      "source": "def interactive_cashflows(p=1):\n    df = BasicTerm_S.Projection[p].result_cf().reset_index().melt(id_vars=['index'], var_name='cashflow')\n    df['value'] = np.where(df['cashflow'] != 'Premiums', df['value']*-1,df['value'])\n    df['value'] = np.where(df['cashflow'] == 'Net Cashflow', df['value']*-1,df['value'])\n    #df = df[df['cashflow'] != 'Net Cashflow']\n\n    # Vega-Altair layered chart\n    \n    base = alt.Chart(df).properties(width=580, height=400)\n\n    bars = base.mark_bar().transform_filter(filter=\"datum.cashflow != 'Net Cashflow'\").encode(\n            tooltip=['cashflow:N','value:Q','index:N'],\n            x=alt.X('index:Q', scale=alt.Scale(domain=[0,200]), title=\"time\"),\n            y=alt.Y('value:Q', scale=alt.Scale(domain=[-500,300])),\n            color='cashflow:N'\n          )\n\n    lines = base.mark_line().transform_filter(filter=\"datum.cashflow == 'Net Cashflow'\").encode(\n            tooltip=['key:N','value:Q','index:N'],\n            x=alt.X('index:Q', scale=alt.Scale(domain=[0,200]), title=\"time\"),\n            y=alt.Y('value:Q', scale=alt.Scale(domain=[-500,300])),\n            color=alt.value('black')\n          )\n\n    return bars+lines",
      "metadata": {
        "trusted": true,
        "jupyter": {
          "source_hidden": true
        }
      },
      "outputs": [],
      "execution_count": 82
    },
    {
      "id": "f443cd7d-c28b-429b-bf35-1e770fc8e506",
      "cell_type": "code",
      "source": "interact(interactive_cashflows, p=(1,10000))",
      "metadata": {
        "trusted": true
      },
      "outputs": [
        {
          "output_type": "display_data",
          "data": {
            "text/plain": "interactive(children=(IntSlider(value=1, description='p', max=10000, min=1), Output()), _dom_classes=('widget-…",
            "application/vnd.jupyter.widget-view+json": {
              "version_major": 2,
              "version_minor": 0,
              "model_id": "01757751549f407ab4cd72d19971f628"
            }
          },
          "metadata": {}
        },
        {
          "execution_count": 83,
          "output_type": "execute_result",
          "data": {
            "text/plain": "<function __main__.interactive_cashflows(p=1)>"
          },
          "metadata": {}
        }
      ],
      "execution_count": 83
    },
    {
      "id": "de5703e3-dcca-4927-bcf4-10fa3ec4fc0a",
      "cell_type": "markdown",
      "source": "## summary interaction",
      "metadata": {}
    },
    {
      "id": "9f806375-2563-43d9-889c-edee2fcf63ec",
      "cell_type": "code",
      "source": "interact(lambda p: BasicTerm_S.Projection[p].result_pv(), p=(1,10000))",
      "metadata": {
        "trusted": true
      },
      "outputs": [
        {
          "output_type": "display_data",
          "data": {
            "text/plain": "interactive(children=(IntSlider(value=5000, description='p', max=10000, min=1), Output()), _dom_classes=('widg…",
            "application/vnd.jupyter.widget-view+json": {
              "version_major": 2,
              "version_minor": 0,
              "model_id": "ab359e5bfbf04c5ca89d60a4592ea779"
            }
          },
          "metadata": {}
        },
        {
          "execution_count": 76,
          "output_type": "execute_result",
          "data": {
            "text/plain": "<function __main__.<lambda>(p)>"
          },
          "metadata": {}
        }
      ],
      "execution_count": 76
    },
    {
      "id": "9be9e9ee-772b-44a6-835e-b8aeab0e14a8",
      "cell_type": "markdown",
      "source": "## cashflow interaction",
      "metadata": {}
    },
    {
      "id": "7601578f-3a8b-4a1a-9f72-a2fd9925148e",
      "cell_type": "code",
      "source": "interact(lambda p: BasicTerm_S.Projection[p].result_cf(), p=(1,10000))",
      "metadata": {
        "trusted": true
      },
      "outputs": [
        {
          "output_type": "display_data",
          "data": {
            "text/plain": "interactive(children=(IntSlider(value=5000, description='p', max=10000, min=1), Output()), _dom_classes=('widg…",
            "application/vnd.jupyter.widget-view+json": {
              "version_major": 2,
              "version_minor": 0,
              "model_id": "6213feecc63448fe83a58ab6ddad582f"
            }
          },
          "metadata": {}
        },
        {
          "execution_count": 75,
          "output_type": "execute_result",
          "data": {
            "text/plain": "<function __main__.<lambda>(p)>"
          },
          "metadata": {}
        }
      ],
      "execution_count": 75
    }
  ]
}