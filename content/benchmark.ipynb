{
 "cells": [
  {
   "cell_type": "code",
   "execution_count": 1,
   "id": "f70f2d3c",
   "metadata": {},
   "outputs": [
    {
     "name": "stdout",
     "output_type": "stream",
     "text": [
      "{'value': 1345.061189809611, 'mem_use': 3046.76953125, 'time': 36.858607698000924}\n"
     ]
    }
   ],
   "source": [
    "import os\n",
    "import timeit\n",
    "import psutil\n",
    "\n",
    "is_mx = True    # Set False for testing exported models\n",
    "\n",
    "process = psutil.Process(os.getpid())\n",
    "def get_mem_use():\n",
    "    \"\"\"Return the memory usage of the current process in MB\"\"\"\n",
    "    return process.memory_info().rss / (1024 ** 2)\n",
    "\n",
    "if is_mx:\n",
    "    import modelx as mx\n",
    "    BasicTerm_S = mx.read_model('BasicTerm_S')\n",
    "else:\n",
    "    from BasicTerm_S_nomx import BasicTerm_S\n",
    "\n",
    "result = {}\n",
    "def run_model(m, size):\n",
    "    mem_use = get_mem_use()\n",
    "    result['value'] = sum(m.Projection[i].pv_net_cf() for i in range(1, size+1)) / size\n",
    "    result['mem_use'] = get_mem_use() - mem_use\n",
    "\n",
    "result['time'] = timeit.timeit(\n",
    "    'run_model(BasicTerm_S, 1000)', number=1, globals=globals())\n",
    "\n",
    "print(result)"
   ]
  },
  {
   "cell_type": "markdown",
   "id": "c31f7d54",
   "metadata": {},
   "source": [
    "# from https://modelx.io/blog/2023/08/19/enhanced-speed-for-exported-lifelib-models/"
   ]
  },
  {
   "cell_type": "code",
   "execution_count": null,
   "id": "cfe4ef9b",
   "metadata": {},
   "outputs": [],
   "source": []
  },
  {
   "cell_type": "code",
   "execution_count": null,
   "id": "f61a7e21",
   "metadata": {},
   "outputs": [],
   "source": []
  }
 ],
 "metadata": {
  "kernelspec": {
   "display_name": "Python 3 (ipykernel)",
   "language": "python",
   "name": "python3"
  },
  "language_info": {
   "codemirror_mode": {
    "name": "ipython",
    "version": 3
   },
   "file_extension": ".py",
   "mimetype": "text/x-python",
   "name": "python",
   "nbconvert_exporter": "python",
   "pygments_lexer": "ipython3",
   "version": "3.10.12"
  }
 },
 "nbformat": 4,
 "nbformat_minor": 5
}
